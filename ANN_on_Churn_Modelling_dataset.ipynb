{
  "nbformat": 4,
  "nbformat_minor": 0,
  "metadata": {
    "colab": {
      "name": "ANN on Churn_Modelling dataset",
      "provenance": [],
      "collapsed_sections": [],
      "mount_file_id": "1LFu7CpKy3IqRMGNpNLSACtJSl93CwAIL",
      "authorship_tag": "ABX9TyOidfbdz2n4JK72jKsTkAB4",
      "include_colab_link": true
    },
    "kernelspec": {
      "name": "python3",
      "display_name": "Python 3"
    },
    "language_info": {
      "name": "python"
    }
  },
  "cells": [
    {
      "cell_type": "markdown",
      "metadata": {
        "id": "view-in-github",
        "colab_type": "text"
      },
      "source": [
        "<a href=\"https://colab.research.google.com/github/swarnava-96/Bank-Customer-churn-using-ANN/blob/main/ANN_on_Churn_Modelling_dataset.ipynb\" target=\"_parent\"><img src=\"https://colab.research.google.com/assets/colab-badge.svg\" alt=\"Open In Colab\"/></a>"
      ]
    },
    {
      "cell_type": "markdown",
      "metadata": {
        "id": "JmqCE9cM3IPh"
      },
      "source": [
        "# **Getting started with ANN on Bank Customer Churn dataset using Keras**"
      ]
    },
    {
      "cell_type": "code",
      "metadata": {
        "colab": {
          "base_uri": "https://localhost:8080/"
        },
        "id": "lEkTEhxF3Iht",
        "outputId": "39bc88bd-2049-4edf-ed95-fedf4575dbd8"
      },
      "source": [
        "cd \"/content/drive/MyDrive/Datasets\""
      ],
      "execution_count": 1,
      "outputs": [
        {
          "output_type": "stream",
          "text": [
            "/content/drive/MyDrive/Datasets\n"
          ],
          "name": "stdout"
        }
      ]
    },
    {
      "cell_type": "markdown",
      "metadata": {
        "id": "Z_kBrEZ83f8-"
      },
      "source": [
        "### Importing the necessary libraries and loading the dataset"
      ]
    },
    {
      "cell_type": "code",
      "metadata": {
        "id": "c_sZX6H73Jtr"
      },
      "source": [
        "import numpy as np\n",
        "import pandas as pd\n",
        "import matplotlib.pyplot as plt\n",
        "%matplotlib inline"
      ],
      "execution_count": 2,
      "outputs": []
    },
    {
      "cell_type": "code",
      "metadata": {
        "colab": {
          "base_uri": "https://localhost:8080/",
          "height": 204
        },
        "id": "nHuPZt9w3rnu",
        "outputId": "43a504af-b125-47e1-f72c-1cc15643551d"
      },
      "source": [
        "df = pd.read_csv(\"Churn_Modelling.csv\")\n",
        "df.head()"
      ],
      "execution_count": 3,
      "outputs": [
        {
          "output_type": "execute_result",
          "data": {
            "text/html": [
              "<div>\n",
              "<style scoped>\n",
              "    .dataframe tbody tr th:only-of-type {\n",
              "        vertical-align: middle;\n",
              "    }\n",
              "\n",
              "    .dataframe tbody tr th {\n",
              "        vertical-align: top;\n",
              "    }\n",
              "\n",
              "    .dataframe thead th {\n",
              "        text-align: right;\n",
              "    }\n",
              "</style>\n",
              "<table border=\"1\" class=\"dataframe\">\n",
              "  <thead>\n",
              "    <tr style=\"text-align: right;\">\n",
              "      <th></th>\n",
              "      <th>RowNumber</th>\n",
              "      <th>CustomerId</th>\n",
              "      <th>Surname</th>\n",
              "      <th>CreditScore</th>\n",
              "      <th>Geography</th>\n",
              "      <th>Gender</th>\n",
              "      <th>Age</th>\n",
              "      <th>Tenure</th>\n",
              "      <th>Balance</th>\n",
              "      <th>NumOfProducts</th>\n",
              "      <th>HasCrCard</th>\n",
              "      <th>IsActiveMember</th>\n",
              "      <th>EstimatedSalary</th>\n",
              "      <th>Exited</th>\n",
              "    </tr>\n",
              "  </thead>\n",
              "  <tbody>\n",
              "    <tr>\n",
              "      <th>0</th>\n",
              "      <td>1</td>\n",
              "      <td>15634602</td>\n",
              "      <td>Hargrave</td>\n",
              "      <td>619</td>\n",
              "      <td>France</td>\n",
              "      <td>Female</td>\n",
              "      <td>42</td>\n",
              "      <td>2</td>\n",
              "      <td>0.00</td>\n",
              "      <td>1</td>\n",
              "      <td>1</td>\n",
              "      <td>1</td>\n",
              "      <td>101348.88</td>\n",
              "      <td>1</td>\n",
              "    </tr>\n",
              "    <tr>\n",
              "      <th>1</th>\n",
              "      <td>2</td>\n",
              "      <td>15647311</td>\n",
              "      <td>Hill</td>\n",
              "      <td>608</td>\n",
              "      <td>Spain</td>\n",
              "      <td>Female</td>\n",
              "      <td>41</td>\n",
              "      <td>1</td>\n",
              "      <td>83807.86</td>\n",
              "      <td>1</td>\n",
              "      <td>0</td>\n",
              "      <td>1</td>\n",
              "      <td>112542.58</td>\n",
              "      <td>0</td>\n",
              "    </tr>\n",
              "    <tr>\n",
              "      <th>2</th>\n",
              "      <td>3</td>\n",
              "      <td>15619304</td>\n",
              "      <td>Onio</td>\n",
              "      <td>502</td>\n",
              "      <td>France</td>\n",
              "      <td>Female</td>\n",
              "      <td>42</td>\n",
              "      <td>8</td>\n",
              "      <td>159660.80</td>\n",
              "      <td>3</td>\n",
              "      <td>1</td>\n",
              "      <td>0</td>\n",
              "      <td>113931.57</td>\n",
              "      <td>1</td>\n",
              "    </tr>\n",
              "    <tr>\n",
              "      <th>3</th>\n",
              "      <td>4</td>\n",
              "      <td>15701354</td>\n",
              "      <td>Boni</td>\n",
              "      <td>699</td>\n",
              "      <td>France</td>\n",
              "      <td>Female</td>\n",
              "      <td>39</td>\n",
              "      <td>1</td>\n",
              "      <td>0.00</td>\n",
              "      <td>2</td>\n",
              "      <td>0</td>\n",
              "      <td>0</td>\n",
              "      <td>93826.63</td>\n",
              "      <td>0</td>\n",
              "    </tr>\n",
              "    <tr>\n",
              "      <th>4</th>\n",
              "      <td>5</td>\n",
              "      <td>15737888</td>\n",
              "      <td>Mitchell</td>\n",
              "      <td>850</td>\n",
              "      <td>Spain</td>\n",
              "      <td>Female</td>\n",
              "      <td>43</td>\n",
              "      <td>2</td>\n",
              "      <td>125510.82</td>\n",
              "      <td>1</td>\n",
              "      <td>1</td>\n",
              "      <td>1</td>\n",
              "      <td>79084.10</td>\n",
              "      <td>0</td>\n",
              "    </tr>\n",
              "  </tbody>\n",
              "</table>\n",
              "</div>"
            ],
            "text/plain": [
              "   RowNumber  CustomerId   Surname  ...  IsActiveMember EstimatedSalary Exited\n",
              "0          1    15634602  Hargrave  ...               1       101348.88      1\n",
              "1          2    15647311      Hill  ...               1       112542.58      0\n",
              "2          3    15619304      Onio  ...               0       113931.57      1\n",
              "3          4    15701354      Boni  ...               0        93826.63      0\n",
              "4          5    15737888  Mitchell  ...               1        79084.10      0\n",
              "\n",
              "[5 rows x 14 columns]"
            ]
          },
          "metadata": {},
          "execution_count": 3
        }
      ]
    },
    {
      "cell_type": "markdown",
      "metadata": {
        "id": "rfbFIpPY4R3e"
      },
      "source": [
        "### Dividing the dataset into independent and dependent features"
      ]
    },
    {
      "cell_type": "code",
      "metadata": {
        "id": "m-wI-SqJ4DXh"
      },
      "source": [
        "X = df.iloc[:, 3:13]\n",
        "y = df.iloc[:,13]"
      ],
      "execution_count": 4,
      "outputs": []
    },
    {
      "cell_type": "code",
      "metadata": {
        "colab": {
          "base_uri": "https://localhost:8080/",
          "height": 204
        },
        "id": "MGQnqsjf7eVx",
        "outputId": "685a6273-da69-4e70-c7e5-0ad88947eda4"
      },
      "source": [
        "X.head()"
      ],
      "execution_count": 5,
      "outputs": [
        {
          "output_type": "execute_result",
          "data": {
            "text/html": [
              "<div>\n",
              "<style scoped>\n",
              "    .dataframe tbody tr th:only-of-type {\n",
              "        vertical-align: middle;\n",
              "    }\n",
              "\n",
              "    .dataframe tbody tr th {\n",
              "        vertical-align: top;\n",
              "    }\n",
              "\n",
              "    .dataframe thead th {\n",
              "        text-align: right;\n",
              "    }\n",
              "</style>\n",
              "<table border=\"1\" class=\"dataframe\">\n",
              "  <thead>\n",
              "    <tr style=\"text-align: right;\">\n",
              "      <th></th>\n",
              "      <th>CreditScore</th>\n",
              "      <th>Geography</th>\n",
              "      <th>Gender</th>\n",
              "      <th>Age</th>\n",
              "      <th>Tenure</th>\n",
              "      <th>Balance</th>\n",
              "      <th>NumOfProducts</th>\n",
              "      <th>HasCrCard</th>\n",
              "      <th>IsActiveMember</th>\n",
              "      <th>EstimatedSalary</th>\n",
              "    </tr>\n",
              "  </thead>\n",
              "  <tbody>\n",
              "    <tr>\n",
              "      <th>0</th>\n",
              "      <td>619</td>\n",
              "      <td>France</td>\n",
              "      <td>Female</td>\n",
              "      <td>42</td>\n",
              "      <td>2</td>\n",
              "      <td>0.00</td>\n",
              "      <td>1</td>\n",
              "      <td>1</td>\n",
              "      <td>1</td>\n",
              "      <td>101348.88</td>\n",
              "    </tr>\n",
              "    <tr>\n",
              "      <th>1</th>\n",
              "      <td>608</td>\n",
              "      <td>Spain</td>\n",
              "      <td>Female</td>\n",
              "      <td>41</td>\n",
              "      <td>1</td>\n",
              "      <td>83807.86</td>\n",
              "      <td>1</td>\n",
              "      <td>0</td>\n",
              "      <td>1</td>\n",
              "      <td>112542.58</td>\n",
              "    </tr>\n",
              "    <tr>\n",
              "      <th>2</th>\n",
              "      <td>502</td>\n",
              "      <td>France</td>\n",
              "      <td>Female</td>\n",
              "      <td>42</td>\n",
              "      <td>8</td>\n",
              "      <td>159660.80</td>\n",
              "      <td>3</td>\n",
              "      <td>1</td>\n",
              "      <td>0</td>\n",
              "      <td>113931.57</td>\n",
              "    </tr>\n",
              "    <tr>\n",
              "      <th>3</th>\n",
              "      <td>699</td>\n",
              "      <td>France</td>\n",
              "      <td>Female</td>\n",
              "      <td>39</td>\n",
              "      <td>1</td>\n",
              "      <td>0.00</td>\n",
              "      <td>2</td>\n",
              "      <td>0</td>\n",
              "      <td>0</td>\n",
              "      <td>93826.63</td>\n",
              "    </tr>\n",
              "    <tr>\n",
              "      <th>4</th>\n",
              "      <td>850</td>\n",
              "      <td>Spain</td>\n",
              "      <td>Female</td>\n",
              "      <td>43</td>\n",
              "      <td>2</td>\n",
              "      <td>125510.82</td>\n",
              "      <td>1</td>\n",
              "      <td>1</td>\n",
              "      <td>1</td>\n",
              "      <td>79084.10</td>\n",
              "    </tr>\n",
              "  </tbody>\n",
              "</table>\n",
              "</div>"
            ],
            "text/plain": [
              "   CreditScore Geography  Gender  ...  HasCrCard  IsActiveMember  EstimatedSalary\n",
              "0          619    France  Female  ...          1               1        101348.88\n",
              "1          608     Spain  Female  ...          0               1        112542.58\n",
              "2          502    France  Female  ...          1               0        113931.57\n",
              "3          699    France  Female  ...          0               0         93826.63\n",
              "4          850     Spain  Female  ...          1               1         79084.10\n",
              "\n",
              "[5 rows x 10 columns]"
            ]
          },
          "metadata": {},
          "execution_count": 5
        }
      ]
    },
    {
      "cell_type": "markdown",
      "metadata": {
        "id": "H8prifeS4qdq"
      },
      "source": [
        "### Handling categorical variables (Feature Engineering)"
      ]
    },
    {
      "cell_type": "code",
      "metadata": {
        "id": "fNkQyafr4mbF"
      },
      "source": [
        "# One Hot Encoding\n",
        "\n",
        "geography = pd.get_dummies(X[\"Geography\"], drop_first = True)\n",
        "gender = pd.get_dummies(X[\"Gender\"], drop_first = True)"
      ],
      "execution_count": 6,
      "outputs": []
    },
    {
      "cell_type": "code",
      "metadata": {
        "id": "i9kG3_CD5KOD"
      },
      "source": [
        "# Concatenate the dataframes\n",
        "\n",
        "X = pd.concat([X, geography, gender], axis = 1)"
      ],
      "execution_count": 7,
      "outputs": []
    },
    {
      "cell_type": "code",
      "metadata": {
        "id": "fMbUtQoL5bdZ"
      },
      "source": [
        "# Dropping the unnecessary columns\n",
        "\n",
        "X = X.drop([\"Geography\", \"Gender\"], axis = 1)"
      ],
      "execution_count": 8,
      "outputs": []
    },
    {
      "cell_type": "markdown",
      "metadata": {
        "id": "EC_Bn7ET5t7P"
      },
      "source": [
        "### Train test split"
      ]
    },
    {
      "cell_type": "code",
      "metadata": {
        "id": "4L-RI_wz5qQk"
      },
      "source": [
        "from sklearn.model_selection import train_test_split\n",
        "X_train, X_test, y_train, y_test = train_test_split(X, y, test_size = 0.2, random_state = 0)"
      ],
      "execution_count": 9,
      "outputs": []
    },
    {
      "cell_type": "markdown",
      "metadata": {
        "id": "x9WyhTqc6Ird"
      },
      "source": [
        "### Feature Scaling"
      ]
    },
    {
      "cell_type": "code",
      "metadata": {
        "id": "rA0U2ISV6Fa4"
      },
      "source": [
        "from sklearn.preprocessing import StandardScaler\n",
        "sc = StandardScaler()\n",
        "X_train = sc.fit_transform(X_train)\n",
        "X_test = sc.transform(X_test)"
      ],
      "execution_count": 10,
      "outputs": []
    },
    {
      "cell_type": "markdown",
      "metadata": {
        "id": "KrSXCMLo7_v2"
      },
      "source": [
        "### Importing the Keras library and packages"
      ]
    },
    {
      "cell_type": "code",
      "metadata": {
        "id": "p-DUTGMh6kAR"
      },
      "source": [
        "import keras\n",
        "from keras.models import Sequential\n",
        "from keras.layers import Dense\n",
        "from keras.layers import LeakyReLU, PReLU, ELU\n",
        "from keras.layers import Dropout"
      ],
      "execution_count": 11,
      "outputs": []
    },
    {
      "cell_type": "markdown",
      "metadata": {
        "id": "kw_OgjakAA_Z"
      },
      "source": [
        "### Let's make the ANN"
      ]
    },
    {
      "cell_type": "code",
      "metadata": {
        "id": "fLuh4LgM6tCw"
      },
      "source": [
        "# Initializing the ANN\n",
        "classifier = Sequential()\n",
        "\n",
        "# Adding the input layer and the first hidden layer\n",
        "classifier.add(Dense(units = 6, kernel_initializer = \"he_uniform\", activation = 'relu', input_dim = 11))\n",
        "\n",
        "# Adding the second hidden layer\n",
        "classifier.add(Dense(units = 6, kernel_initializer = \"he_uniform\", activation = \"relu\"))\n",
        "\n",
        "# Adding the output layer\n",
        "classifier.add(Dense(units = 1, kernel_initializer = \"glorot_uniform\", activation = \"sigmoid\"))"
      ],
      "execution_count": 13,
      "outputs": []
    },
    {
      "cell_type": "code",
      "metadata": {
        "colab": {
          "base_uri": "https://localhost:8080/"
        },
        "id": "cR0H4cSGBI4Y",
        "outputId": "a145490f-133e-468c-af54-4c2e7c23cea6"
      },
      "source": [
        "# Let's look at our classifier summary\n",
        "\n",
        "classifier.summary()"
      ],
      "execution_count": 14,
      "outputs": [
        {
          "output_type": "stream",
          "text": [
            "Model: \"sequential_1\"\n",
            "_________________________________________________________________\n",
            "Layer (type)                 Output Shape              Param #   \n",
            "=================================================================\n",
            "dense_1 (Dense)              (None, 6)                 72        \n",
            "_________________________________________________________________\n",
            "dense_2 (Dense)              (None, 6)                 42        \n",
            "_________________________________________________________________\n",
            "dense_3 (Dense)              (None, 1)                 7         \n",
            "=================================================================\n",
            "Total params: 121\n",
            "Trainable params: 121\n",
            "Non-trainable params: 0\n",
            "_________________________________________________________________\n"
          ],
          "name": "stdout"
        }
      ]
    },
    {
      "cell_type": "code",
      "metadata": {
        "id": "3YLRQGl_Cl2a"
      },
      "source": [
        "# Compiling the ANN\n",
        "\n",
        "classifier.compile(optimizer = 'Adamax', loss = 'binary_crossentropy', metrics = ['accuracy'] )"
      ],
      "execution_count": 15,
      "outputs": []
    },
    {
      "cell_type": "code",
      "metadata": {
        "colab": {
          "base_uri": "https://localhost:8080/"
        },
        "id": "sgIRGqqdDkc4",
        "outputId": "54c4c908-7e35-4bdb-cd41-5ec2d25bde01"
      },
      "source": [
        "# Fitting the model\n",
        "\n",
        "model = classifier.fit(X_train, y_train, validation_split = 0.33, batch_size = 10, epochs = 100)"
      ],
      "execution_count": 17,
      "outputs": [
        {
          "output_type": "stream",
          "text": [
            "Epoch 1/100\n",
            "536/536 [==============================] - 3s 3ms/step - loss: 0.5334 - accuracy: 0.7951 - val_loss: 0.5361 - val_accuracy: 0.7955\n",
            "Epoch 2/100\n",
            "536/536 [==============================] - 2s 3ms/step - loss: 0.5109 - accuracy: 0.7962 - val_loss: 0.5179 - val_accuracy: 0.7955\n",
            "Epoch 3/100\n",
            "536/536 [==============================] - 1s 3ms/step - loss: 0.4946 - accuracy: 0.7962 - val_loss: 0.5043 - val_accuracy: 0.7955\n",
            "Epoch 4/100\n",
            "536/536 [==============================] - 2s 3ms/step - loss: 0.4820 - accuracy: 0.7962 - val_loss: 0.4933 - val_accuracy: 0.7955\n",
            "Epoch 5/100\n",
            "536/536 [==============================] - 1s 2ms/step - loss: 0.4717 - accuracy: 0.7962 - val_loss: 0.4843 - val_accuracy: 0.7955\n",
            "Epoch 6/100\n",
            "536/536 [==============================] - 1s 2ms/step - loss: 0.4634 - accuracy: 0.7962 - val_loss: 0.4772 - val_accuracy: 0.7955\n",
            "Epoch 7/100\n",
            "536/536 [==============================] - 1s 2ms/step - loss: 0.4571 - accuracy: 0.7962 - val_loss: 0.4714 - val_accuracy: 0.7955\n",
            "Epoch 8/100\n",
            "536/536 [==============================] - 1s 2ms/step - loss: 0.4519 - accuracy: 0.7962 - val_loss: 0.4666 - val_accuracy: 0.7955\n",
            "Epoch 9/100\n",
            "536/536 [==============================] - 1s 3ms/step - loss: 0.4478 - accuracy: 0.7962 - val_loss: 0.4627 - val_accuracy: 0.7955\n",
            "Epoch 10/100\n",
            "536/536 [==============================] - 1s 2ms/step - loss: 0.4443 - accuracy: 0.7962 - val_loss: 0.4598 - val_accuracy: 0.7955\n",
            "Epoch 11/100\n",
            "536/536 [==============================] - 1s 3ms/step - loss: 0.4415 - accuracy: 0.7962 - val_loss: 0.4571 - val_accuracy: 0.7955\n",
            "Epoch 12/100\n",
            "536/536 [==============================] - 1s 3ms/step - loss: 0.4392 - accuracy: 0.7962 - val_loss: 0.4547 - val_accuracy: 0.7959\n",
            "Epoch 13/100\n",
            "536/536 [==============================] - 1s 3ms/step - loss: 0.4373 - accuracy: 0.7962 - val_loss: 0.4527 - val_accuracy: 0.7959\n",
            "Epoch 14/100\n",
            "536/536 [==============================] - 2s 4ms/step - loss: 0.4356 - accuracy: 0.7962 - val_loss: 0.4509 - val_accuracy: 0.7959\n",
            "Epoch 15/100\n",
            "536/536 [==============================] - 2s 3ms/step - loss: 0.4341 - accuracy: 0.7960 - val_loss: 0.4494 - val_accuracy: 0.7963\n",
            "Epoch 16/100\n",
            "536/536 [==============================] - 2s 3ms/step - loss: 0.4327 - accuracy: 0.7960 - val_loss: 0.4481 - val_accuracy: 0.7963\n",
            "Epoch 17/100\n",
            "536/536 [==============================] - 2s 3ms/step - loss: 0.4316 - accuracy: 0.7962 - val_loss: 0.4467 - val_accuracy: 0.7963\n",
            "Epoch 18/100\n",
            "536/536 [==============================] - 2s 3ms/step - loss: 0.4306 - accuracy: 0.7966 - val_loss: 0.4457 - val_accuracy: 0.7959\n",
            "Epoch 19/100\n",
            "536/536 [==============================] - 2s 4ms/step - loss: 0.4296 - accuracy: 0.7968 - val_loss: 0.4446 - val_accuracy: 0.7970\n",
            "Epoch 20/100\n",
            "536/536 [==============================] - 2s 4ms/step - loss: 0.4287 - accuracy: 0.7968 - val_loss: 0.4435 - val_accuracy: 0.7970\n",
            "Epoch 21/100\n",
            "536/536 [==============================] - 1s 3ms/step - loss: 0.4277 - accuracy: 0.7968 - val_loss: 0.4426 - val_accuracy: 0.7970\n",
            "Epoch 22/100\n",
            "536/536 [==============================] - 1s 3ms/step - loss: 0.4268 - accuracy: 0.7968 - val_loss: 0.4416 - val_accuracy: 0.7970\n",
            "Epoch 23/100\n",
            "536/536 [==============================] - 1s 2ms/step - loss: 0.4259 - accuracy: 0.7966 - val_loss: 0.4407 - val_accuracy: 0.7967\n",
            "Epoch 24/100\n",
            "536/536 [==============================] - 1s 2ms/step - loss: 0.4251 - accuracy: 0.7968 - val_loss: 0.4398 - val_accuracy: 0.7967\n",
            "Epoch 25/100\n",
            "536/536 [==============================] - 1s 2ms/step - loss: 0.4243 - accuracy: 0.7970 - val_loss: 0.4391 - val_accuracy: 0.7963\n",
            "Epoch 26/100\n",
            "536/536 [==============================] - 1s 3ms/step - loss: 0.4234 - accuracy: 0.7975 - val_loss: 0.4383 - val_accuracy: 0.7959\n",
            "Epoch 27/100\n",
            "536/536 [==============================] - 1s 2ms/step - loss: 0.4225 - accuracy: 0.7974 - val_loss: 0.4376 - val_accuracy: 0.7959\n",
            "Epoch 28/100\n",
            "536/536 [==============================] - 1s 2ms/step - loss: 0.4217 - accuracy: 0.7979 - val_loss: 0.4370 - val_accuracy: 0.7963\n",
            "Epoch 29/100\n",
            "536/536 [==============================] - 1s 3ms/step - loss: 0.4209 - accuracy: 0.7972 - val_loss: 0.4365 - val_accuracy: 0.7970\n",
            "Epoch 30/100\n",
            "536/536 [==============================] - 1s 2ms/step - loss: 0.4201 - accuracy: 0.7970 - val_loss: 0.4356 - val_accuracy: 0.7978\n",
            "Epoch 31/100\n",
            "536/536 [==============================] - 1s 3ms/step - loss: 0.4192 - accuracy: 0.8009 - val_loss: 0.4350 - val_accuracy: 0.7974\n",
            "Epoch 32/100\n",
            "536/536 [==============================] - 2s 3ms/step - loss: 0.4183 - accuracy: 0.8059 - val_loss: 0.4342 - val_accuracy: 0.8046\n",
            "Epoch 33/100\n",
            "536/536 [==============================] - 1s 3ms/step - loss: 0.4175 - accuracy: 0.8080 - val_loss: 0.4334 - val_accuracy: 0.8023\n",
            "Epoch 34/100\n",
            "536/536 [==============================] - 1s 3ms/step - loss: 0.4167 - accuracy: 0.8104 - val_loss: 0.4327 - val_accuracy: 0.8027\n",
            "Epoch 35/100\n",
            "536/536 [==============================] - 1s 3ms/step - loss: 0.4159 - accuracy: 0.8117 - val_loss: 0.4320 - val_accuracy: 0.8046\n",
            "Epoch 36/100\n",
            "536/536 [==============================] - 1s 3ms/step - loss: 0.4151 - accuracy: 0.8132 - val_loss: 0.4311 - val_accuracy: 0.8039\n",
            "Epoch 37/100\n",
            "536/536 [==============================] - 1s 2ms/step - loss: 0.4143 - accuracy: 0.8132 - val_loss: 0.4305 - val_accuracy: 0.8039\n",
            "Epoch 38/100\n",
            "536/536 [==============================] - 1s 2ms/step - loss: 0.4134 - accuracy: 0.8132 - val_loss: 0.4297 - val_accuracy: 0.8042\n",
            "Epoch 39/100\n",
            "536/536 [==============================] - 1s 2ms/step - loss: 0.4126 - accuracy: 0.8130 - val_loss: 0.4289 - val_accuracy: 0.8046\n",
            "Epoch 40/100\n",
            "536/536 [==============================] - 2s 4ms/step - loss: 0.4115 - accuracy: 0.8138 - val_loss: 0.4279 - val_accuracy: 0.8054\n",
            "Epoch 41/100\n",
            "536/536 [==============================] - 2s 3ms/step - loss: 0.4105 - accuracy: 0.8158 - val_loss: 0.4273 - val_accuracy: 0.8058\n",
            "Epoch 42/100\n",
            "536/536 [==============================] - 2s 3ms/step - loss: 0.4095 - accuracy: 0.8162 - val_loss: 0.4266 - val_accuracy: 0.8069\n",
            "Epoch 43/100\n",
            "536/536 [==============================] - 2s 3ms/step - loss: 0.4087 - accuracy: 0.8156 - val_loss: 0.4257 - val_accuracy: 0.8073\n",
            "Epoch 44/100\n",
            "536/536 [==============================] - 1s 2ms/step - loss: 0.4076 - accuracy: 0.8169 - val_loss: 0.4250 - val_accuracy: 0.8076\n",
            "Epoch 45/100\n",
            "536/536 [==============================] - 1s 2ms/step - loss: 0.4065 - accuracy: 0.8182 - val_loss: 0.4241 - val_accuracy: 0.8073\n",
            "Epoch 46/100\n",
            "536/536 [==============================] - 1s 2ms/step - loss: 0.4054 - accuracy: 0.8179 - val_loss: 0.4233 - val_accuracy: 0.8046\n",
            "Epoch 47/100\n",
            "536/536 [==============================] - 1s 2ms/step - loss: 0.4044 - accuracy: 0.8184 - val_loss: 0.4223 - val_accuracy: 0.8061\n",
            "Epoch 48/100\n",
            "536/536 [==============================] - 1s 2ms/step - loss: 0.4032 - accuracy: 0.8197 - val_loss: 0.4213 - val_accuracy: 0.8061\n",
            "Epoch 49/100\n",
            "536/536 [==============================] - 1s 2ms/step - loss: 0.4019 - accuracy: 0.8201 - val_loss: 0.4203 - val_accuracy: 0.8073\n",
            "Epoch 50/100\n",
            "536/536 [==============================] - 1s 3ms/step - loss: 0.4010 - accuracy: 0.8205 - val_loss: 0.4192 - val_accuracy: 0.8084\n",
            "Epoch 51/100\n",
            "536/536 [==============================] - 1s 2ms/step - loss: 0.3997 - accuracy: 0.8214 - val_loss: 0.4181 - val_accuracy: 0.8095\n",
            "Epoch 52/100\n",
            "536/536 [==============================] - 1s 3ms/step - loss: 0.3985 - accuracy: 0.8238 - val_loss: 0.4171 - val_accuracy: 0.8095\n",
            "Epoch 53/100\n",
            "536/536 [==============================] - 2s 3ms/step - loss: 0.3972 - accuracy: 0.8222 - val_loss: 0.4161 - val_accuracy: 0.8118\n",
            "Epoch 54/100\n",
            "536/536 [==============================] - 2s 3ms/step - loss: 0.3960 - accuracy: 0.8237 - val_loss: 0.4149 - val_accuracy: 0.8118\n",
            "Epoch 55/100\n",
            "536/536 [==============================] - 1s 3ms/step - loss: 0.3948 - accuracy: 0.8248 - val_loss: 0.4136 - val_accuracy: 0.8129\n",
            "Epoch 56/100\n",
            "536/536 [==============================] - 1s 2ms/step - loss: 0.3934 - accuracy: 0.8244 - val_loss: 0.4125 - val_accuracy: 0.8137\n",
            "Epoch 57/100\n",
            "536/536 [==============================] - 1s 3ms/step - loss: 0.3922 - accuracy: 0.8266 - val_loss: 0.4114 - val_accuracy: 0.8141\n",
            "Epoch 58/100\n",
            "536/536 [==============================] - 1s 2ms/step - loss: 0.3910 - accuracy: 0.8270 - val_loss: 0.4102 - val_accuracy: 0.8137\n",
            "Epoch 59/100\n",
            "536/536 [==============================] - 1s 2ms/step - loss: 0.3898 - accuracy: 0.8283 - val_loss: 0.4092 - val_accuracy: 0.8164\n",
            "Epoch 60/100\n",
            "536/536 [==============================] - 1s 2ms/step - loss: 0.3886 - accuracy: 0.8317 - val_loss: 0.4079 - val_accuracy: 0.8167\n",
            "Epoch 61/100\n",
            "536/536 [==============================] - 1s 3ms/step - loss: 0.3874 - accuracy: 0.8347 - val_loss: 0.4068 - val_accuracy: 0.8152\n",
            "Epoch 62/100\n",
            "536/536 [==============================] - 1s 3ms/step - loss: 0.3861 - accuracy: 0.8349 - val_loss: 0.4056 - val_accuracy: 0.8160\n",
            "Epoch 63/100\n",
            "536/536 [==============================] - 1s 3ms/step - loss: 0.3850 - accuracy: 0.8362 - val_loss: 0.4044 - val_accuracy: 0.8152\n",
            "Epoch 64/100\n",
            "536/536 [==============================] - 1s 2ms/step - loss: 0.3836 - accuracy: 0.8373 - val_loss: 0.4035 - val_accuracy: 0.8179\n",
            "Epoch 65/100\n",
            "536/536 [==============================] - 1s 2ms/step - loss: 0.3824 - accuracy: 0.8390 - val_loss: 0.4026 - val_accuracy: 0.8175\n",
            "Epoch 66/100\n",
            "536/536 [==============================] - 1s 2ms/step - loss: 0.3813 - accuracy: 0.8382 - val_loss: 0.4014 - val_accuracy: 0.8179\n",
            "Epoch 67/100\n",
            "536/536 [==============================] - 1s 2ms/step - loss: 0.3801 - accuracy: 0.8388 - val_loss: 0.4004 - val_accuracy: 0.8190\n",
            "Epoch 68/100\n",
            "536/536 [==============================] - 2s 3ms/step - loss: 0.3789 - accuracy: 0.8403 - val_loss: 0.3995 - val_accuracy: 0.8198\n",
            "Epoch 69/100\n",
            "536/536 [==============================] - 2s 3ms/step - loss: 0.3780 - accuracy: 0.8401 - val_loss: 0.3986 - val_accuracy: 0.8198\n",
            "Epoch 70/100\n",
            "536/536 [==============================] - 2s 4ms/step - loss: 0.3769 - accuracy: 0.8419 - val_loss: 0.3977 - val_accuracy: 0.8220\n",
            "Epoch 71/100\n",
            "536/536 [==============================] - 2s 4ms/step - loss: 0.3758 - accuracy: 0.8419 - val_loss: 0.3968 - val_accuracy: 0.8232\n",
            "Epoch 72/100\n",
            "536/536 [==============================] - 2s 3ms/step - loss: 0.3749 - accuracy: 0.8433 - val_loss: 0.3959 - val_accuracy: 0.8239\n",
            "Epoch 73/100\n",
            "536/536 [==============================] - 1s 3ms/step - loss: 0.3739 - accuracy: 0.8433 - val_loss: 0.3953 - val_accuracy: 0.8258\n",
            "Epoch 74/100\n",
            "536/536 [==============================] - 1s 2ms/step - loss: 0.3732 - accuracy: 0.8449 - val_loss: 0.3944 - val_accuracy: 0.8277\n",
            "Epoch 75/100\n",
            "536/536 [==============================] - 1s 2ms/step - loss: 0.3721 - accuracy: 0.8466 - val_loss: 0.3936 - val_accuracy: 0.8266\n",
            "Epoch 76/100\n",
            "536/536 [==============================] - 2s 3ms/step - loss: 0.3712 - accuracy: 0.8464 - val_loss: 0.3927 - val_accuracy: 0.8277\n",
            "Epoch 77/100\n",
            "536/536 [==============================] - 2s 3ms/step - loss: 0.3703 - accuracy: 0.8483 - val_loss: 0.3921 - val_accuracy: 0.8281\n",
            "Epoch 78/100\n",
            "536/536 [==============================] - 1s 3ms/step - loss: 0.3694 - accuracy: 0.8468 - val_loss: 0.3913 - val_accuracy: 0.8277\n",
            "Epoch 79/100\n",
            "536/536 [==============================] - 2s 3ms/step - loss: 0.3685 - accuracy: 0.8483 - val_loss: 0.3906 - val_accuracy: 0.8285\n",
            "Epoch 80/100\n",
            "536/536 [==============================] - 2s 3ms/step - loss: 0.3677 - accuracy: 0.8489 - val_loss: 0.3899 - val_accuracy: 0.8289\n",
            "Epoch 81/100\n",
            "536/536 [==============================] - 1s 3ms/step - loss: 0.3670 - accuracy: 0.8498 - val_loss: 0.3892 - val_accuracy: 0.8292\n",
            "Epoch 82/100\n",
            "536/536 [==============================] - 1s 2ms/step - loss: 0.3662 - accuracy: 0.8502 - val_loss: 0.3883 - val_accuracy: 0.8311\n",
            "Epoch 83/100\n",
            "536/536 [==============================] - 1s 3ms/step - loss: 0.3653 - accuracy: 0.8487 - val_loss: 0.3877 - val_accuracy: 0.8307\n",
            "Epoch 84/100\n",
            "536/536 [==============================] - 1s 2ms/step - loss: 0.3646 - accuracy: 0.8496 - val_loss: 0.3872 - val_accuracy: 0.8319\n",
            "Epoch 85/100\n",
            "536/536 [==============================] - 1s 2ms/step - loss: 0.3639 - accuracy: 0.8487 - val_loss: 0.3867 - val_accuracy: 0.8326\n",
            "Epoch 86/100\n",
            "536/536 [==============================] - 1s 3ms/step - loss: 0.3633 - accuracy: 0.8498 - val_loss: 0.3862 - val_accuracy: 0.8334\n",
            "Epoch 87/100\n",
            "536/536 [==============================] - 1s 2ms/step - loss: 0.3627 - accuracy: 0.8513 - val_loss: 0.3857 - val_accuracy: 0.8338\n",
            "Epoch 88/100\n",
            "536/536 [==============================] - 1s 2ms/step - loss: 0.3621 - accuracy: 0.8533 - val_loss: 0.3854 - val_accuracy: 0.8349\n",
            "Epoch 89/100\n",
            "536/536 [==============================] - 1s 3ms/step - loss: 0.3617 - accuracy: 0.8528 - val_loss: 0.3847 - val_accuracy: 0.8357\n",
            "Epoch 90/100\n",
            "536/536 [==============================] - 1s 2ms/step - loss: 0.3612 - accuracy: 0.8517 - val_loss: 0.3845 - val_accuracy: 0.8364\n",
            "Epoch 91/100\n",
            "536/536 [==============================] - 1s 3ms/step - loss: 0.3606 - accuracy: 0.8531 - val_loss: 0.3841 - val_accuracy: 0.8364\n",
            "Epoch 92/100\n",
            "536/536 [==============================] - 1s 2ms/step - loss: 0.3602 - accuracy: 0.8526 - val_loss: 0.3836 - val_accuracy: 0.8379\n",
            "Epoch 93/100\n",
            "536/536 [==============================] - 1s 2ms/step - loss: 0.3596 - accuracy: 0.8524 - val_loss: 0.3832 - val_accuracy: 0.8376\n",
            "Epoch 94/100\n",
            "536/536 [==============================] - 1s 3ms/step - loss: 0.3592 - accuracy: 0.8528 - val_loss: 0.3827 - val_accuracy: 0.8360\n",
            "Epoch 95/100\n",
            "536/536 [==============================] - 1s 3ms/step - loss: 0.3588 - accuracy: 0.8526 - val_loss: 0.3824 - val_accuracy: 0.8368\n",
            "Epoch 96/100\n",
            "536/536 [==============================] - 1s 3ms/step - loss: 0.3583 - accuracy: 0.8533 - val_loss: 0.3820 - val_accuracy: 0.8364\n",
            "Epoch 97/100\n",
            "536/536 [==============================] - 2s 3ms/step - loss: 0.3577 - accuracy: 0.8533 - val_loss: 0.3819 - val_accuracy: 0.8368\n",
            "Epoch 98/100\n",
            "536/536 [==============================] - 1s 3ms/step - loss: 0.3574 - accuracy: 0.8539 - val_loss: 0.3814 - val_accuracy: 0.8357\n",
            "Epoch 99/100\n",
            "536/536 [==============================] - 1s 3ms/step - loss: 0.3570 - accuracy: 0.8528 - val_loss: 0.3812 - val_accuracy: 0.8376\n",
            "Epoch 100/100\n",
            "536/536 [==============================] - 1s 3ms/step - loss: 0.3567 - accuracy: 0.8533 - val_loss: 0.3809 - val_accuracy: 0.8383\n"
          ],
          "name": "stdout"
        }
      ]
    },
    {
      "cell_type": "markdown",
      "metadata": {
        "id": "oAAy6g-qG8qU"
      },
      "source": [
        "### Plotting the model history"
      ]
    },
    {
      "cell_type": "code",
      "metadata": {
        "colab": {
          "base_uri": "https://localhost:8080/",
          "height": 312
        },
        "id": "p5jzU2VVEBD0",
        "outputId": "f596622f-b2f2-4ca1-fe25-c7a568bbd6bb"
      },
      "source": [
        "# List all data in history\n",
        "print(model.history.keys())\n",
        "\n",
        "# Summarize the history for accuracy\n",
        "plt.plot(model.history['accuracy'])\n",
        "plt.plot(model.history['val_accuracy'])\n",
        "plt.title(\"Model Accuracy\")\n",
        "plt.ylabel(\"Accuracy\")\n",
        "plt.xlabel(\"Epoch\")\n",
        "plt.legend([\"Train\", \"Test\"], loc = \"upper left\")\n",
        "plt.show();"
      ],
      "execution_count": 19,
      "outputs": [
        {
          "output_type": "stream",
          "text": [
            "dict_keys(['loss', 'accuracy', 'val_loss', 'val_accuracy'])\n"
          ],
          "name": "stdout"
        },
        {
          "output_type": "display_data",
          "data": {
            "image/png": "[encoded data removed]",
            "text/plain": [
              "<Figure size 432x288 with 1 Axes>"
            ]
          },
          "metadata": {
            "needs_background": "light"
          }
        }
      ]
    },
    {
      "cell_type": "code",
      "metadata": {
        "colab": {
          "base_uri": "https://localhost:8080/",
          "height": 295
        },
        "id": "hw_-dOskF2gD",
        "outputId": "066ffcd4-c68f-44e9-b26f-87e2c2f119ce"
      },
      "source": [
        "# Summarize the history for loss\n",
        "\n",
        "plt.plot(model.history['loss'])\n",
        "plt.plot(model.history['val_loss'])\n",
        "plt.title('Model Loss')\n",
        "plt.ylabel('Loss')\n",
        "plt.xlabel('Epoch')\n",
        "plt.legend(['Train', 'Test'], loc = 'upper left')\n",
        "plt.show();"
      ],
      "execution_count": 20,
      "outputs": [
        {
          "output_type": "display_data",
          "data": {
            "image/png": "[encoded data removed]",
            "text/plain": [
              "<Figure size 432x288 with 1 Axes>"
            ]
          },
          "metadata": {
            "needs_background": "light"
          }
        }
      ]
    },
    {
      "cell_type": "markdown",
      "metadata": {
        "id": "ac8yG8qQHAmU"
      },
      "source": [
        "### Prediction and Evaluation"
      ]
    },
    {
      "cell_type": "code",
      "metadata": {
        "id": "2v2D1VoLGyo7"
      },
      "source": [
        "# Predicting the test set result\n",
        "\n",
        "y_pred = classifier.predict(X_test)\n",
        "y_pred = (y_pred > 0.5)"
      ],
      "execution_count": 21,
      "outputs": []
    },
    {
      "cell_type": "code",
      "metadata": {
        "colab": {
          "base_uri": "https://localhost:8080/"
        },
        "id": "GOmCZw35HVH1",
        "outputId": "d30b779a-f9cb-4096-cba0-88c9cf72518a"
      },
      "source": [
        "# Making the confusion matrix\n",
        "\n",
        "from sklearn.metrics import confusion_matrix\n",
        "cm = confusion_matrix(y_test, y_pred)\n",
        "print(cm)"
      ],
      "execution_count": 23,
      "outputs": [
        {
          "output_type": "stream",
          "text": [
            "[[1523   72]\n",
            " [ 220  185]]\n"
          ],
          "name": "stdout"
        }
      ]
    },
    {
      "cell_type": "code",
      "metadata": {
        "colab": {
          "base_uri": "https://localhost:8080/"
        },
        "id": "X0wo6k6MHij3",
        "outputId": "114dc559-1ae3-4ef0-8b55-e03e94bdf902"
      },
      "source": [
        "# Calculating the accuracy\n",
        "\n",
        "from sklearn.metrics import accuracy_score\n",
        "score = accuracy_score(y_test, y_pred)\n",
        "print(score)"
      ],
      "execution_count": 24,
      "outputs": [
        {
          "output_type": "stream",
          "text": [
            "0.854\n"
          ],
          "name": "stdout"
        }
      ]
    },
    {
      "cell_type": "markdown",
      "metadata": {
        "id": "WzjjE1HGJgBx"
      },
      "source": [
        "### Hyperparameter Optimization"
      ]
    },
    {
      "cell_type": "code",
      "metadata": {
        "id": "uuaG9PEwJi-b"
      },
      "source": [
        "# Importing the libraries\n",
        "\n",
        "from keras.wrappers.scikit_learn import KerasClassifier\n",
        "from sklearn.model_selection import GridSearchCV\n",
        "\n",
        "from keras.models import Sequential\n",
        "from keras.layers import Dense, Activation, Embedding, Flatten, LeakyReLU, BatchNormalization, Dropout\n",
        "from keras.activations import relu, sigmoid "
      ],
      "execution_count": 43,
      "outputs": []
    },
    {
      "cell_type": "code",
      "metadata": {
        "id": "otwgJmeRLIDp"
      },
      "source": [
        "# Creating our custom function\n",
        "\n",
        "def create_model(layers, activation):\n",
        "  model = Sequential()\n",
        "  for i, nodes in enumerate(layers):\n",
        "    if i ==0:\n",
        "      model.add(Dense(nodes, input_dim = X_train.shape[1]))\n",
        "      model.add(Activation(activation))\n",
        "      model.add(Dropout(0.3))\n",
        "\n",
        "    else:\n",
        "      model.add(Dense(nodes))\n",
        "      model.add(Activation(activation))\n",
        "      model.add(Dropout(0.3))\n",
        "\n",
        "  model.add(Dense(units = 1, kernel_initializer = 'glorot_uniform', activation = 'sigmoid')) #Note: No activation beyond this point\n",
        "\n",
        "  model.compile(optimizer = 'adam', loss = 'binary_crossentropy', metrics = ['accuracy'])\n",
        "\n",
        "  return model"
      ],
      "execution_count": 44,
      "outputs": []
    },
    {
      "cell_type": "code",
      "metadata": {
        "id": "oyrJ-EjBO2Jv"
      },
      "source": [
        "model1 = KerasClassifier(build_fn = create_model, verbose = 0)"
      ],
      "execution_count": 45,
      "outputs": []
    },
    {
      "cell_type": "code",
      "metadata": {
        "id": "Ol6oTJVvPscA"
      },
      "source": [
        "# GridSearchCV\n",
        "\n",
        "layers = [[20], [40, 20], [45, 30, 15]]\n",
        "activations = ['sigmoid', 'relu']\n",
        "\n",
        "param_grid = dict(layers = layers, activation = activations, batch_size = [128, 256], epochs = [30])\n",
        "\n",
        "grid = GridSearchCV(estimator = model1, param_grid = param_grid, cv = 5)"
      ],
      "execution_count": 46,
      "outputs": []
    },
    {
      "cell_type": "code",
      "metadata": {
        "id": "ueLPg9txQ3Nb"
      },
      "source": [
        "# Fitting the model\n",
        "\n",
        "grid_result = grid.fit(X_train, y_train)"
      ],
      "execution_count": 47,
      "outputs": []
    },
    {
      "cell_type": "code",
      "metadata": {
        "colab": {
          "base_uri": "https://localhost:8080/"
        },
        "id": "vkWdmhGBRGFC",
        "outputId": "6d325d88-35d5-4b38-dc3d-d50cfbbd5d8e"
      },
      "source": [
        "grid_result.best_score_"
      ],
      "execution_count": 48,
      "outputs": [
        {
          "output_type": "execute_result",
          "data": {
            "text/plain": [
              "0.856374990940094"
            ]
          },
          "metadata": {},
          "execution_count": 48
        }
      ]
    },
    {
      "cell_type": "code",
      "metadata": {
        "colab": {
          "base_uri": "https://localhost:8080/"
        },
        "id": "kO1CGPsgSEsF",
        "outputId": "a6ed386b-cf7b-4b67-85f9-47828a197cb0"
      },
      "source": [
        "grid_result.best_params_"
      ],
      "execution_count": 49,
      "outputs": [
        {
          "output_type": "execute_result",
          "data": {
            "text/plain": [
              "{'activation': 'relu', 'batch_size': 128, 'epochs': 30, 'layers': [45, 30, 15]}"
            ]
          },
          "metadata": {},
          "execution_count": 49
        }
      ]
    },
    {
      "cell_type": "code",
      "metadata": {
        "colab": {
          "base_uri": "https://localhost:8080/"
        },
        "id": "m2TVXMZMUEBA",
        "outputId": "5e224b81-8769-4bef-ed55-1bbb107b1901"
      },
      "source": [
        "# Prediction and Evaluation\n",
        "\n",
        "pred_y = grid.predict(X_test)\n",
        "pred_y = (pred_y > 0.5)\n",
        "\n",
        "from sklearn.metrics import confusion_matrix, accuracy_score\n",
        "cm = confusion_matrix(y_test, pred_y)\n",
        "print(cm)\n",
        "\n",
        "score = accuracy_score(y_test, pred_y)\n",
        "print(score)"
      ],
      "execution_count": 50,
      "outputs": [
        {
          "output_type": "stream",
          "text": [
            "[[1525   70]\n",
            " [ 207  198]]\n",
            "0.8615\n"
          ],
          "name": "stdout"
        }
      ]
    }
  ]
}